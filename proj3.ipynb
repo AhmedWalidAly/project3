{
 "cells": [
  {
   "cell_type": "code",
   "execution_count": 4,
   "id": "bcb64a8f",
   "metadata": {},
   "outputs": [
    {
     "name": "stdout",
     "output_type": "stream",
     "text": [
      "35\n"
     ]
    }
   ],
   "source": [
    "def maximum(a, b, c):\n",
    "  \n",
    "    if (a >= b) and (a >= c):\n",
    "        maxnum = a\n",
    "  \n",
    "    elif (b >= a) and (b >= c):\n",
    "        maxnum = b\n",
    "    else:\n",
    "        maxnum = c\n",
    "          \n",
    "    return maxnum\n",
    "a = 20\n",
    "b = 35\n",
    "c = 19\n",
    "print(maximum(a, b, c))"
   ]
  },
  {
   "cell_type": "code",
   "execution_count": 17,
   "id": "90e23c4c",
   "metadata": {},
   "outputs": [
    {
     "name": "stdout",
     "output_type": "stream",
     "text": [
      "(50, 30)\n"
     ]
    }
   ],
   "source": [
    "def calculation(a, b):\n",
    "    addition = a + b\n",
    "    subtraction = a - b\n",
    "    \n",
    "    return addition, subtraction\n",
    "\n",
    "\n",
    "sol = calculation(40, 10)\n",
    "print(sol)"
   ]
  },
  {
   "cell_type": "code",
   "execution_count": 18,
   "id": "4bd189f8",
   "metadata": {},
   "outputs": [
    {
     "name": "stdout",
     "output_type": "stream",
     "text": [
      "Sum of all elements in given list:  74\n"
     ]
    }
   ],
   "source": [
    "\n",
    "total = 0\n",
    " \n",
    "# creating a list\n",
    "list1 = [11, 5, 17, 18, 23]\n",
    " \n",
    "\n",
    "for element in range(0, len(list1)):\n",
    "    total = total + list1[element]\n",
    " \n",
    "\n",
    "print(\"Sum of all elements in given list: \", total)\n"
   ]
  },
  {
   "cell_type": "code",
   "execution_count": 30,
   "id": "d8e5b166",
   "metadata": {},
   "outputs": [
    {
     "name": "stdout",
     "output_type": "stream",
     "text": [
      "40\n"
     ]
    }
   ],
   "source": [
    "def multiplyList(myList):\n",
    " \n",
    "    \n",
    "    result = 1\n",
    "    for x in myList:\n",
    "        result = result * x\n",
    "    return result\n",
    " \n",
    " \n",
    "\n",
    "list1 = [5, 2, 4]\n",
    "\n",
    "print(multiplyList(list1))\n"
   ]
  },
  {
   "cell_type": "code",
   "execution_count": 31,
   "id": "54e0c3d3",
   "metadata": {},
   "outputs": [
    {
     "name": "stdout",
     "output_type": "stream",
     "text": [
      "Even index positions sum  9\n",
      "Odd index positions sum  12\n"
     ]
    }
   ],
   "source": [
    "def EvenOddSum(a, n):\n",
    "    even = 0\n",
    "    odd = 0\n",
    "    for i in range(n):\n",
    " \n",
    "        \n",
    "        if i % 2 == 0:\n",
    "            even += a[i]\n",
    "        else:\n",
    "            odd += a[i]\n",
    "     \n",
    "    print (\"Even index positions sum \", even)\n",
    "    print (\"Odd index positions sum \", odd)\n",
    " \n",
    "\n",
    " \n",
    "arr = [1, 2, 3, 4, 5, 6]\n",
    "n = len(arr)\n",
    " \n",
    "EvenOddSum(arr, n)"
   ]
  },
  {
   "cell_type": "code",
   "execution_count": 33,
   "id": "6d219bc6",
   "metadata": {},
   "outputs": [
    {
     "name": "stdout",
     "output_type": "stream",
     "text": [
      "['Ahmed', 'Moustafa', 'Selim']\n"
     ]
    }
   ],
   "source": [
    "namesdec=['ahmed','moustafa','selim']\n",
    "namesdec= [i.title() for i in names]\n",
    "print(namesdec)"
   ]
  },
  {
   "cell_type": "code",
   "execution_count": 39,
   "id": "638feaf5",
   "metadata": {},
   "outputs": [
    {
     "name": "stdout",
     "output_type": "stream",
     "text": [
      "The longest word is: Champion\n"
     ]
    }
   ],
   "source": [
    "def longestLength(a):\n",
    "    max1 = len(a[0])\n",
    "    temp = a[0]\n",
    " \n",
    "    for i in a:\n",
    "        if(len(i) > max1):\n",
    " \n",
    "            max1 = len(i)\n",
    "            temp = i\n",
    " \n",
    "    print(\"The longest word is:\", temp)\n",
    "\n",
    "a = [\"Champion\", \"Fight\", \"Boxing\", \"Judje\"]\n",
    "longestLength(a)"
   ]
  },
  {
   "cell_type": "code",
   "execution_count": 40,
   "id": "092eba71",
   "metadata": {},
   "outputs": [
    {
     "name": "stdout",
     "output_type": "stream",
     "text": [
      "enter the string: red-yellow-green\n",
      "green-red-yellow\n"
     ]
    }
   ],
   "source": [
    "n=input(\"enter the string: \") \n",
    "l=n.split('-') \n",
    "l.sort() \n",
    "print('-'.join(l)) "
   ]
  },
  {
   "cell_type": "code",
   "execution_count": 41,
   "id": "b3c65272",
   "metadata": {},
   "outputs": [
    {
     "name": "stdout",
     "output_type": "stream",
     "text": [
      "Provide D: 100,150,180\n",
      "[18, 22, 24]\n"
     ]
    }
   ],
   "source": [
    "import math\n",
    "\n",
    "numbers = input(\"Provide D: \")\n",
    "numbers = numbers.split(',')\n",
    "\n",
    "result_list = []\n",
    "for D in numbers:\n",
    "    Q = round(math.sqrt(2 * 50 * int(D) / 30))\n",
    "    result_list.append(Q)\n",
    "\n",
    "print(result_list)"
   ]
  },
  {
   "cell_type": "code",
   "execution_count": null,
   "id": "64f63980",
   "metadata": {},
   "outputs": [],
   "source": []
  }
 ],
 "metadata": {
  "kernelspec": {
   "display_name": "Python 3 (ipykernel)",
   "language": "python",
   "name": "python3"
  },
  "language_info": {
   "codemirror_mode": {
    "name": "ipython",
    "version": 3
   },
   "file_extension": ".py",
   "mimetype": "text/x-python",
   "name": "python",
   "nbconvert_exporter": "python",
   "pygments_lexer": "ipython3",
   "version": "3.9.13"
  }
 },
 "nbformat": 4,
 "nbformat_minor": 5
}
